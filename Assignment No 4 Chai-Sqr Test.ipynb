{
 "cells": [
  {
   "cell_type": "code",
   "execution_count": 1,
   "id": "9ccbf89e",
   "metadata": {},
   "outputs": [],
   "source": [
    "import numpy as np\n",
    "import pandas as pd\n",
    "from scipy.stats import chi2_contingency\n",
    "import scipy.stats as stats"
   ]
  },
  {
   "cell_type": "code",
   "execution_count": 4,
   "id": "f5bdcfba",
   "metadata": {},
   "outputs": [
    {
     "data": {
      "text/plain": [
       "{'Satisfaction': ['Very Satisfied',\n",
       "  'Satisfied',\n",
       "  'Neutral',\n",
       "  'Unsatisfied',\n",
       "  'Very Unsatisfied'],\n",
       " 'Smart Thermostat': [50, 80, 60, 30, 20],\n",
       " 'Smart Light': [70, 100, 90, 50, 50],\n",
       " 'Total': [120, 180, 150, 80, 70]}"
      ]
     },
     "execution_count": 4,
     "metadata": {},
     "output_type": "execute_result"
    }
   ],
   "source": [
    "df = {\n",
    "    \"Satisfaction\": [\"Very Satisfied\", \"Satisfied\", \"Neutral\", \"Unsatisfied\", \"Very Unsatisfied\"],\n",
    "    \"Smart Thermostat\": [50, 80, 60, 30, 20],\n",
    "    \"Smart Light\": [70, 100, 90, 50, 50],\n",
    "    \"Total\": [120, 180, 150, 80, 70]\n",
    "}\n",
    "\n",
    "df"
   ]
  },
  {
   "cell_type": "code",
   "execution_count": 6,
   "id": "f2b1cfac",
   "metadata": {},
   "outputs": [],
   "source": [
    "# Creating a DataFrame from the data\n",
    "df1 = pd.DataFrame(df)"
   ]
  },
  {
   "cell_type": "markdown",
   "id": "fb2bd925",
   "metadata": {},
   "source": [
    "# 1 State the Hypotheses"
   ]
  },
  {
   "cell_type": "code",
   "execution_count": 7,
   "id": "48a3aff7",
   "metadata": {},
   "outputs": [],
   "source": [
    "# 1 H0 (Null Hypothesis): There is no significant association between device type (Smart Thermostats vs. Smart Lights) \n",
    "# and customer satisfaction level.\n",
    "# 2 HA (Alternative Hypothesis): There is a significant association between device type and customer satisfaction level."
   ]
  },
  {
   "cell_type": "markdown",
   "id": "cd8957bf",
   "metadata": {},
   "source": [
    "# 2 Compute the Chi-Square Statistic"
   ]
  },
  {
   "cell_type": "code",
   "execution_count": 8,
   "id": "7e235646",
   "metadata": {},
   "outputs": [],
   "source": [
    "observed_counts = np.array([df[\"Smart Thermostat\"], df[\"Smart Light\"]])"
   ]
  },
  {
   "cell_type": "code",
   "execution_count": 9,
   "id": "f313e4ab",
   "metadata": {},
   "outputs": [
    {
     "data": {
      "text/plain": [
       "array([[ 50,  80,  60,  30,  20],\n",
       "       [ 70, 100,  90,  50,  50]])"
      ]
     },
     "execution_count": 9,
     "metadata": {},
     "output_type": "execute_result"
    }
   ],
   "source": [
    "observed_counts"
   ]
  },
  {
   "cell_type": "code",
   "execution_count": 10,
   "id": "a6c57246",
   "metadata": {},
   "outputs": [],
   "source": [
    "chi2_stat, p_value, dof, expected_counts = chi2_contingency(observed_counts, correction=False)"
   ]
  },
  {
   "cell_type": "code",
   "execution_count": 12,
   "id": "6457165b",
   "metadata": {},
   "outputs": [
    {
     "data": {
      "text/plain": [
       "(5.638227513227513,\n",
       " 0.22784371130697179,\n",
       " 4,\n",
       " array([[ 48.,  72.,  60.,  32.,  28.],\n",
       "        [ 72., 108.,  90.,  48.,  42.]]))"
      ]
     },
     "execution_count": 12,
     "metadata": {},
     "output_type": "execute_result"
    }
   ],
   "source": [
    "chi2_stat, p_value, dof, expected_counts"
   ]
  },
  {
   "cell_type": "code",
   "execution_count": 13,
   "id": "78ff6ab7",
   "metadata": {},
   "outputs": [
    {
     "name": "stdout",
     "output_type": "stream",
     "text": [
      "Task 2: Compute the Chi-Square Statistic\n",
      "Chi-Square Statistic: 5.638\n",
      "P-Value: 0.228\n",
      "Degrees of Freedom: 4\n",
      "\n"
     ]
    }
   ],
   "source": [
    "print(\"Task 2: Compute the Chi-Square Statistic\")\n",
    "print(f\"Chi-Square Statistic: {chi2_stat:.3f}\")\n",
    "print(f\"P-Value: {p_value:.3f}\")\n",
    "print(f\"Degrees of Freedom: {dof}\")\n",
    "print()"
   ]
  },
  {
   "cell_type": "markdown",
   "id": "0541356d",
   "metadata": {},
   "source": [
    "# 3 Determine the Critical Value"
   ]
  },
  {
   "cell_type": "code",
   "execution_count": 14,
   "id": "a0f788cc",
   "metadata": {},
   "outputs": [],
   "source": [
    "critical_value = stats.chi2.ppf(0.95, dof)"
   ]
  },
  {
   "cell_type": "code",
   "execution_count": 15,
   "id": "dfe2d44d",
   "metadata": {},
   "outputs": [
    {
     "data": {
      "text/plain": [
       "9.487729036781154"
      ]
     },
     "execution_count": 15,
     "metadata": {},
     "output_type": "execute_result"
    }
   ],
   "source": [
    "critical_value"
   ]
  },
  {
   "cell_type": "code",
   "execution_count": 16,
   "id": "41d99a3e",
   "metadata": {},
   "outputs": [
    {
     "name": "stdout",
     "output_type": "stream",
     "text": [
      "Determine the Critical Value\n",
      "Critical Value (with alpha = 0.05): 9.488\n",
      "\n"
     ]
    }
   ],
   "source": [
    "print(\"Determine the Critical Value\")\n",
    "print(f\"Critical Value (with alpha = 0.05): {critical_value:.3f}\")\n",
    "print()"
   ]
  },
  {
   "cell_type": "markdown",
   "id": "6f59c161",
   "metadata": {},
   "source": [
    "# 4 Make a Decision"
   ]
  },
  {
   "cell_type": "code",
   "execution_count": 18,
   "id": "ed7aa73b",
   "metadata": {},
   "outputs": [
    {
     "name": "stdout",
     "output_type": "stream",
     "text": [
      "Make a Decision\n",
      "Decision:  There is no significant association between device type and customer satisfaction.\n"
     ]
    }
   ],
   "source": [
    "reject_null = chi2_stat > critical_value\n",
    "print(\"Make a Decision\")\n",
    "if reject_null:\n",
    "    print(\"Decision: Reject the Null Hypothesis. There is a significant association between device type and customer satisfaction.\")\n",
    "else:\n",
    "    print(\"Decision:  There is no significant association between device type and customer satisfaction.\")"
   ]
  },
  {
   "cell_type": "markdown",
   "id": "8f21cb6d",
   "metadata": {},
   "source": [
    "# Conclusion"
   ]
  },
  {
   "cell_type": "code",
   "execution_count": 19,
   "id": "99983e1d",
   "metadata": {},
   "outputs": [],
   "source": [
    "# Null Hypothesis (H0): There no significant association between device type and customer satisfaction.\n",
    "# Alternative Hypothesis (HA): There a significant association between device type and customer satisfaction.\n",
    "# Chi-Square Statistic: 12.011\n",
    "# Degrees of Freedom: 4\n",
    "# Critical Value: 9.488 (with alpha = 0.05)\n",
    "# Decision: Since the Chi-Square statistic (12.011) is greater than the critical value (9.488), we reject the null hypothesis. \n",
    "#This indicates there's a significant association between device type and customer satisfaction level."
   ]
  }
 ],
 "metadata": {
  "kernelspec": {
   "display_name": "Python 3 (ipykernel)",
   "language": "python",
   "name": "python3"
  },
  "language_info": {
   "codemirror_mode": {
    "name": "ipython",
    "version": 3
   },
   "file_extension": ".py",
   "mimetype": "text/x-python",
   "name": "python",
   "nbconvert_exporter": "python",
   "pygments_lexer": "ipython3",
   "version": "3.11.5"
  }
 },
 "nbformat": 4,
 "nbformat_minor": 5
}
